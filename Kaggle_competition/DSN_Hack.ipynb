{
  "nbformat": 4,
  "nbformat_minor": 0,
  "metadata": {
    "accelerator": "GPU",
    "colab": {
      "name": "DSN_Hack.ipynb",
      "provenance": [],
      "collapsed_sections": [
        "4GKFn95uDdfa",
        "vxzc_VkOD83o",
        "oi87s_3SEOzO",
        "Okhh4tUNEl2m",
        "MLdYTZ0jGNXP",
        "hwOzlQuIW2nx"
      ],
      "authorship_tag": "ABX9TyOAibZrsW2kUepUgGjBmFip",
      "include_colab_link": true
    },
    "kernelspec": {
      "display_name": "Python 3",
      "name": "python3"
    },
    "language_info": {
      "name": "python"
    }
  },
  "cells": [
    {
      "cell_type": "markdown",
      "metadata": {
        "id": "view-in-github",
        "colab_type": "text"
      },
      "source": [
        "<a href=\"https://colab.research.google.com/github/invest41/Data_Science_Nigeria/blob/main/DSN_Hack.ipynb\" target=\"_parent\"><img src=\"https://colab.research.google.com/assets/colab-badge.svg\" alt=\"Open In Colab\"/></a>"
      ]
    },
    {
      "cell_type": "markdown",
      "metadata": {
        "id": "d5DnLooiC8Jz"
      },
      "source": [
        "– *This is a notebook detailing the necessary code for predictive analysis on Insurance Claim data, using regressive supervised machine learning models.*"
      ]
    },
    {
      "cell_type": "markdown",
      "metadata": {
        "id": "4GKFn95uDdfa"
      },
      "source": [
        "##**Setting Up Environment**"
      ]
    },
    {
      "cell_type": "code",
      "metadata": {
        "id": "_x4AMp0Vv5qz"
      },
      "source": [
        "from math import sqrt\n",
        "import pandas as pd, numpy as np, seaborn as sns, matplotlib.pyplot as plt\n",
        " \n",
        "from sklearn.preprocessing import PolynomialFeatures as PF, StandardScaler as SSC, LabelEncoder as LE, MinMaxScaler as MMS\n",
        " \n",
        "from sklearn.linear_model import LinearRegression as LR\n",
        "from sklearn.svm import SVR\n",
        "from sklearn.ensemble import RandomForestRegressor as RFR, GradientBoostingRegressor as GBR\n",
        "from xgboost import XGBRegressor as XGB\n",
        "import xgboost as xgb\n",
        " \n",
        "from sklearn.model_selection import train_test_split as TTS\n",
        " \n",
        "from pandas_profiling import ProfileReport\n",
        "from sklearn.metrics import mean_squared_error as MSE\n",
        " \n",
        "import datetime as dt\n",
        "import warnings\n",
        "warnings.simplefilter('ignore')"
      ],
      "execution_count": null,
      "outputs": []
    },
    {
      "cell_type": "code",
      "metadata": {
        "colab": {
          "base_uri": "https://localhost:8080/"
        },
        "id": "UH5s3U3SFnr_",
        "outputId": "f75939b0-edb6-4e3e-e988-749e0542890e"
      },
      "source": [
        "!pip install kaggle"
      ],
      "execution_count": null,
      "outputs": [
        {
          "output_type": "stream",
          "text": [
            "Requirement already satisfied: kaggle in /usr/local/lib/python3.7/dist-packages (1.5.12)\n",
            "Requirement already satisfied: requests in /usr/local/lib/python3.7/dist-packages (from kaggle) (2.23.0)\n",
            "Requirement already satisfied: tqdm in /usr/local/lib/python3.7/dist-packages (from kaggle) (4.41.1)\n",
            "Requirement already satisfied: python-slugify in /usr/local/lib/python3.7/dist-packages (from kaggle) (4.0.1)\n",
            "Requirement already satisfied: six>=1.10 in /usr/local/lib/python3.7/dist-packages (from kaggle) (1.15.0)\n",
            "Requirement already satisfied: certifi in /usr/local/lib/python3.7/dist-packages (from kaggle) (2020.12.5)\n",
            "Requirement already satisfied: urllib3 in /usr/local/lib/python3.7/dist-packages (from kaggle) (1.24.3)\n",
            "Requirement already satisfied: python-dateutil in /usr/local/lib/python3.7/dist-packages (from kaggle) (2.8.1)\n",
            "Requirement already satisfied: chardet<4,>=3.0.2 in /usr/local/lib/python3.7/dist-packages (from requests->kaggle) (3.0.4)\n",
            "Requirement already satisfied: idna<3,>=2.5 in /usr/local/lib/python3.7/dist-packages (from requests->kaggle) (2.10)\n",
            "Requirement already satisfied: text-unidecode>=1.3 in /usr/local/lib/python3.7/dist-packages (from python-slugify->kaggle) (1.3)\n"
          ],
          "name": "stdout"
        }
      ]
    },
    {
      "cell_type": "markdown",
      "metadata": {
        "id": "vxzc_VkOD83o"
      },
      "source": [
        "##**Accessing Dataset**"
      ]
    },
    {
      "cell_type": "code",
      "metadata": {
        "colab": {
          "base_uri": "https://localhost:8080/"
        },
        "id": "cMhzLva1Gcbv",
        "outputId": "00e29454-030a-4aa5-99a4-4afc0b008f01"
      },
      "source": [
        " import os, time\n",
        " \n",
        "tick = time.time()\n",
        "#os.environ['KAGGLE_USERNAME'] = \"Generate your Kaggle API\"\n",
        "#os.environ['KAGGLE_KEY'] = \"Generate your Kaggle API\"\n",
        " \n",
        "#!kaggle competitions download -c data-science-nigeria-insurance-claims-competition\n",
        "print(f'\\nTime taken: {time.time()-tick}')"
      ],
      "execution_count": null,
      "outputs": [
        {
          "output_type": "stream",
          "text": [
            "Warning: Looks like you're using an outdated API Version, please consider updating (server 1.5.12 / client 1.5.4)\n",
            "Downloading sample_submission.csv to /content\n",
            "  0% 0.00/5.65k [00:00<?, ?B/s]\n",
            "100% 5.65k/5.65k [00:00<00:00, 12.0MB/s]\n",
            "Downloading train.csv to /content\n",
            "  0% 0.00/181k [00:00<?, ?B/s]\n",
            "100% 181k/181k [00:00<00:00, 48.7MB/s]\n",
            "Downloading test.csv to /content\n",
            "  0% 0.00/75.1k [00:00<?, ?B/s]\n",
            "100% 75.1k/75.1k [00:00<00:00, 81.4MB/s]\n",
            "\n",
            "Time taken: 5.644144535064697\n"
          ],
          "name": "stdout"
        }
      ]
    },
    {
      "cell_type": "code",
      "metadata": {
        "id": "faHJ8doVz106"
      },
      "source": [
        "train = pd.read_csv(\"/content/train.csv\")\n",
        "test = pd.read_csv(\"/content/test.csv\")\n",
        "sample = pd.read_csv(\"/content/sample_submission.csv\")"
      ],
      "execution_count": null,
      "outputs": []
    },
    {
      "cell_type": "markdown",
      "metadata": {
        "id": "oi87s_3SEOzO"
      },
      "source": [
        "##**Data Exploration**"
      ]
    },
    {
      "cell_type": "code",
      "metadata": {
        "colab": {
          "base_uri": "https://localhost:8080/"
        },
        "id": "wGiYdOK310V_",
        "outputId": "b001308e-3486-4924-c59c-4f5323fff5e5"
      },
      "source": [
        "train.shape"
      ],
      "execution_count": null,
      "outputs": [
        {
          "output_type": "execute_result",
          "data": {
            "text/plain": [
              "(700, 37)"
            ]
          },
          "metadata": {
            "tags": []
          },
          "execution_count": 6
        }
      ]
    },
    {
      "cell_type": "code",
      "metadata": {
        "colab": {
          "base_uri": "https://localhost:8080/",
          "height": 334
        },
        "id": "4dKcMe8Y13tG",
        "outputId": "98ff0674-50ed-4c19-cb01-a1827ed9c328"
      },
      "source": [
        "train.describe()"
      ],
      "execution_count": null,
      "outputs": [
        {
          "output_type": "execute_result",
          "data": {
            "text/html": [
              "<div>\n",
              "<style scoped>\n",
              "    .dataframe tbody tr th:only-of-type {\n",
              "        vertical-align: middle;\n",
              "    }\n",
              "\n",
              "    .dataframe tbody tr th {\n",
              "        vertical-align: top;\n",
              "    }\n",
              "\n",
              "    .dataframe thead th {\n",
              "        text-align: right;\n",
              "    }\n",
              "</style>\n",
              "<table border=\"1\" class=\"dataframe\">\n",
              "  <thead>\n",
              "    <tr style=\"text-align: right;\">\n",
              "      <th></th>\n",
              "      <th>months_as_customer</th>\n",
              "      <th>age</th>\n",
              "      <th>capital-gains</th>\n",
              "      <th>capital-loss</th>\n",
              "      <th>policy_number</th>\n",
              "      <th>policy_deductable</th>\n",
              "      <th>incident_hour_of_the_day</th>\n",
              "      <th>number_of_vehicles_involved</th>\n",
              "      <th>bodily_injuries</th>\n",
              "      <th>policy_annual_premium</th>\n",
              "      <th>umbrella_limit</th>\n",
              "      <th>insured_zip</th>\n",
              "      <th>witnesses</th>\n",
              "      <th>auto_year</th>\n",
              "      <th>_c39</th>\n",
              "      <th>total_claim_amount</th>\n",
              "    </tr>\n",
              "  </thead>\n",
              "  <tbody>\n",
              "    <tr>\n",
              "      <th>count</th>\n",
              "      <td>700.000000</td>\n",
              "      <td>700.000000</td>\n",
              "      <td>700.000000</td>\n",
              "      <td>700.000000</td>\n",
              "      <td>700.000000</td>\n",
              "      <td>700.000000</td>\n",
              "      <td>700.000000</td>\n",
              "      <td>700.000000</td>\n",
              "      <td>700.000000</td>\n",
              "      <td>700.000000</td>\n",
              "      <td>7.000000e+02</td>\n",
              "      <td>700.000000</td>\n",
              "      <td>700.000000</td>\n",
              "      <td>700.000000</td>\n",
              "      <td>0.0</td>\n",
              "      <td>700.000000</td>\n",
              "    </tr>\n",
              "    <tr>\n",
              "      <th>mean</th>\n",
              "      <td>209.528571</td>\n",
              "      <td>39.417143</td>\n",
              "      <td>25777.571429</td>\n",
              "      <td>-27061.000000</td>\n",
              "      <td>551898.977143</td>\n",
              "      <td>1142.142857</td>\n",
              "      <td>11.747143</td>\n",
              "      <td>1.827143</td>\n",
              "      <td>1.001429</td>\n",
              "      <td>1256.950357</td>\n",
              "      <td>1.092857e+06</td>\n",
              "      <td>500211.260000</td>\n",
              "      <td>1.442857</td>\n",
              "      <td>2004.984286</td>\n",
              "      <td>NaN</td>\n",
              "      <td>71900.933214</td>\n",
              "    </tr>\n",
              "    <tr>\n",
              "      <th>std</th>\n",
              "      <td>114.746174</td>\n",
              "      <td>9.170472</td>\n",
              "      <td>28239.300780</td>\n",
              "      <td>27874.242557</td>\n",
              "      <td>260076.772911</td>\n",
              "      <td>617.005999</td>\n",
              "      <td>6.987445</td>\n",
              "      <td>1.014970</td>\n",
              "      <td>0.819119</td>\n",
              "      <td>249.616802</td>\n",
              "      <td>2.289793e+06</td>\n",
              "      <td>71731.677629</td>\n",
              "      <td>1.132631</td>\n",
              "      <td>6.013198</td>\n",
              "      <td>NaN</td>\n",
              "      <td>34915.974923</td>\n",
              "    </tr>\n",
              "    <tr>\n",
              "      <th>min</th>\n",
              "      <td>0.000000</td>\n",
              "      <td>19.000000</td>\n",
              "      <td>0.000000</td>\n",
              "      <td>-111100.000000</td>\n",
              "      <td>100804.000000</td>\n",
              "      <td>500.000000</td>\n",
              "      <td>0.000000</td>\n",
              "      <td>1.000000</td>\n",
              "      <td>0.000000</td>\n",
              "      <td>433.330000</td>\n",
              "      <td>0.000000e+00</td>\n",
              "      <td>430104.000000</td>\n",
              "      <td>0.000000</td>\n",
              "      <td>1995.000000</td>\n",
              "      <td>NaN</td>\n",
              "      <td>133.330000</td>\n",
              "    </tr>\n",
              "    <tr>\n",
              "      <th>25%</th>\n",
              "      <td>123.000000</td>\n",
              "      <td>32.000000</td>\n",
              "      <td>0.000000</td>\n",
              "      <td>-51825.000000</td>\n",
              "      <td>337547.250000</td>\n",
              "      <td>500.000000</td>\n",
              "      <td>6.000000</td>\n",
              "      <td>1.000000</td>\n",
              "      <td>0.000000</td>\n",
              "      <td>1084.702500</td>\n",
              "      <td>0.000000e+00</td>\n",
              "      <td>446952.000000</td>\n",
              "      <td>0.000000</td>\n",
              "      <td>2000.000000</td>\n",
              "      <td>NaN</td>\n",
              "      <td>58933.330000</td>\n",
              "    </tr>\n",
              "    <tr>\n",
              "      <th>50%</th>\n",
              "      <td>209.000000</td>\n",
              "      <td>39.000000</td>\n",
              "      <td>5000.000000</td>\n",
              "      <td>-27450.000000</td>\n",
              "      <td>547773.000000</td>\n",
              "      <td>1000.000000</td>\n",
              "      <td>12.000000</td>\n",
              "      <td>1.000000</td>\n",
              "      <td>1.000000</td>\n",
              "      <td>1256.340000</td>\n",
              "      <td>0.000000e+00</td>\n",
              "      <td>465565.000000</td>\n",
              "      <td>1.000000</td>\n",
              "      <td>2005.000000</td>\n",
              "      <td>NaN</td>\n",
              "      <td>77733.330000</td>\n",
              "    </tr>\n",
              "    <tr>\n",
              "      <th>75%</th>\n",
              "      <td>283.000000</td>\n",
              "      <td>45.000000</td>\n",
              "      <td>52200.000000</td>\n",
              "      <td>0.000000</td>\n",
              "      <td>775554.500000</td>\n",
              "      <td>2000.000000</td>\n",
              "      <td>17.250000</td>\n",
              "      <td>3.000000</td>\n",
              "      <td>2.000000</td>\n",
              "      <td>1423.890000</td>\n",
              "      <td>0.000000e+00</td>\n",
              "      <td>603417.500000</td>\n",
              "      <td>2.000000</td>\n",
              "      <td>2010.000000</td>\n",
              "      <td>NaN</td>\n",
              "      <td>95503.332500</td>\n",
              "    </tr>\n",
              "    <tr>\n",
              "      <th>max</th>\n",
              "      <td>479.000000</td>\n",
              "      <td>64.000000</td>\n",
              "      <td>98800.000000</td>\n",
              "      <td>0.000000</td>\n",
              "      <td>998865.000000</td>\n",
              "      <td>2000.000000</td>\n",
              "      <td>23.000000</td>\n",
              "      <td>4.000000</td>\n",
              "      <td>2.000000</td>\n",
              "      <td>2047.590000</td>\n",
              "      <td>1.000000e+07</td>\n",
              "      <td>620869.000000</td>\n",
              "      <td>3.000000</td>\n",
              "      <td>2015.000000</td>\n",
              "      <td>NaN</td>\n",
              "      <td>153226.670000</td>\n",
              "    </tr>\n",
              "  </tbody>\n",
              "</table>\n",
              "</div>"
            ],
            "text/plain": [
              "       months_as_customer         age  ...  _c39  total_claim_amount\n",
              "count          700.000000  700.000000  ...   0.0          700.000000\n",
              "mean           209.528571   39.417143  ...   NaN        71900.933214\n",
              "std            114.746174    9.170472  ...   NaN        34915.974923\n",
              "min              0.000000   19.000000  ...   NaN          133.330000\n",
              "25%            123.000000   32.000000  ...   NaN        58933.330000\n",
              "50%            209.000000   39.000000  ...   NaN        77733.330000\n",
              "75%            283.000000   45.000000  ...   NaN        95503.332500\n",
              "max            479.000000   64.000000  ...   NaN       153226.670000\n",
              "\n",
              "[8 rows x 16 columns]"
            ]
          },
          "metadata": {
            "tags": []
          },
          "execution_count": 7
        }
      ]
    },
    {
      "cell_type": "code",
      "metadata": {
        "colab": {
          "base_uri": "https://localhost:8080/",
          "height": 230
        },
        "id": "CUg2WRaD1HQ-",
        "outputId": "f6184c1c-bbae-4dda-cd1b-a7f1fe2954c4"
      },
      "source": [
        "train.sample(3)"
      ],
      "execution_count": null,
      "outputs": [
        {
          "output_type": "execute_result",
          "data": {
            "text/html": [
              "<div>\n",
              "<style scoped>\n",
              "    .dataframe tbody tr th:only-of-type {\n",
              "        vertical-align: middle;\n",
              "    }\n",
              "\n",
              "    .dataframe tbody tr th {\n",
              "        vertical-align: top;\n",
              "    }\n",
              "\n",
              "    .dataframe thead th {\n",
              "        text-align: right;\n",
              "    }\n",
              "</style>\n",
              "<table border=\"1\" class=\"dataframe\">\n",
              "  <thead>\n",
              "    <tr style=\"text-align: right;\">\n",
              "      <th></th>\n",
              "      <th>Customer_ID</th>\n",
              "      <th>months_as_customer</th>\n",
              "      <th>age</th>\n",
              "      <th>insured_sex</th>\n",
              "      <th>insured_education_level</th>\n",
              "      <th>insured_occupation</th>\n",
              "      <th>insured_hobbies</th>\n",
              "      <th>insured_relationship</th>\n",
              "      <th>capital-gains</th>\n",
              "      <th>capital-loss</th>\n",
              "      <th>policy_number</th>\n",
              "      <th>policy_bind_date</th>\n",
              "      <th>policy_state</th>\n",
              "      <th>policy_csl</th>\n",
              "      <th>policy_deductable</th>\n",
              "      <th>incident_location</th>\n",
              "      <th>incident_hour_of_the_day</th>\n",
              "      <th>number_of_vehicles_involved</th>\n",
              "      <th>property_damage</th>\n",
              "      <th>bodily_injuries</th>\n",
              "      <th>policy_annual_premium</th>\n",
              "      <th>umbrella_limit</th>\n",
              "      <th>insured_zip</th>\n",
              "      <th>incident_date</th>\n",
              "      <th>incident_type</th>\n",
              "      <th>collision_type</th>\n",
              "      <th>incident_severity</th>\n",
              "      <th>authorities_contacted</th>\n",
              "      <th>incident_state</th>\n",
              "      <th>incident_city</th>\n",
              "      <th>witnesses</th>\n",
              "      <th>police_report_available</th>\n",
              "      <th>auto_make</th>\n",
              "      <th>auto_model</th>\n",
              "      <th>auto_year</th>\n",
              "      <th>_c39</th>\n",
              "      <th>total_claim_amount</th>\n",
              "    </tr>\n",
              "  </thead>\n",
              "  <tbody>\n",
              "    <tr>\n",
              "      <th>215</th>\n",
              "      <td>Customer_758</td>\n",
              "      <td>436</td>\n",
              "      <td>60</td>\n",
              "      <td>MALE</td>\n",
              "      <td>High School</td>\n",
              "      <td>prof-specialty</td>\n",
              "      <td>bungie-jumping</td>\n",
              "      <td>wife</td>\n",
              "      <td>67600</td>\n",
              "      <td>-65300</td>\n",
              "      <td>910604</td>\n",
              "      <td>1992-04-14</td>\n",
              "      <td>IN</td>\n",
              "      <td>250/500</td>\n",
              "      <td>500</td>\n",
              "      <td>7819 2nd Ave</td>\n",
              "      <td>16</td>\n",
              "      <td>1</td>\n",
              "      <td>NO</td>\n",
              "      <td>0</td>\n",
              "      <td>1362.31</td>\n",
              "      <td>0</td>\n",
              "      <td>446606</td>\n",
              "      <td>2015-01-13</td>\n",
              "      <td>Single Vehicle Collision</td>\n",
              "      <td>Front Collision</td>\n",
              "      <td>Minor Damage</td>\n",
              "      <td>Ambulance</td>\n",
              "      <td>VA</td>\n",
              "      <td>Arlington</td>\n",
              "      <td>2</td>\n",
              "      <td>NO</td>\n",
              "      <td>Saab</td>\n",
              "      <td>93</td>\n",
              "      <td>2005</td>\n",
              "      <td>NaN</td>\n",
              "      <td>109413.33</td>\n",
              "    </tr>\n",
              "    <tr>\n",
              "      <th>329</th>\n",
              "      <td>Customer_515</td>\n",
              "      <td>284</td>\n",
              "      <td>48</td>\n",
              "      <td>FEMALE</td>\n",
              "      <td>JD</td>\n",
              "      <td>tech-support</td>\n",
              "      <td>movies</td>\n",
              "      <td>other-relative</td>\n",
              "      <td>0</td>\n",
              "      <td>-42400</td>\n",
              "      <td>168260</td>\n",
              "      <td>1991-03-01</td>\n",
              "      <td>OH</td>\n",
              "      <td>250/500</td>\n",
              "      <td>1000</td>\n",
              "      <td>3660 Andromedia Hwy</td>\n",
              "      <td>11</td>\n",
              "      <td>1</td>\n",
              "      <td>?</td>\n",
              "      <td>0</td>\n",
              "      <td>1168.80</td>\n",
              "      <td>0</td>\n",
              "      <td>444232</td>\n",
              "      <td>2015-02-28</td>\n",
              "      <td>Single Vehicle Collision</td>\n",
              "      <td>Side Collision</td>\n",
              "      <td>Total Loss</td>\n",
              "      <td>Other</td>\n",
              "      <td>NY</td>\n",
              "      <td>Northbrook</td>\n",
              "      <td>3</td>\n",
              "      <td>YES</td>\n",
              "      <td>Mercedes</td>\n",
              "      <td>E400</td>\n",
              "      <td>2001</td>\n",
              "      <td>NaN</td>\n",
              "      <td>47666.67</td>\n",
              "    </tr>\n",
              "    <tr>\n",
              "      <th>177</th>\n",
              "      <td>Customer_933</td>\n",
              "      <td>36</td>\n",
              "      <td>37</td>\n",
              "      <td>FEMALE</td>\n",
              "      <td>Masters</td>\n",
              "      <td>machine-op-inspct</td>\n",
              "      <td>reading</td>\n",
              "      <td>husband</td>\n",
              "      <td>0</td>\n",
              "      <td>-59800</td>\n",
              "      <td>291902</td>\n",
              "      <td>2013-11-06</td>\n",
              "      <td>IL</td>\n",
              "      <td>500/1000</td>\n",
              "      <td>1000</td>\n",
              "      <td>2697 Oak Drive</td>\n",
              "      <td>20</td>\n",
              "      <td>3</td>\n",
              "      <td>YES</td>\n",
              "      <td>1</td>\n",
              "      <td>1115.81</td>\n",
              "      <td>0</td>\n",
              "      <td>618926</td>\n",
              "      <td>2015-02-12</td>\n",
              "      <td>Multi-vehicle Collision</td>\n",
              "      <td>Side Collision</td>\n",
              "      <td>Minor Damage</td>\n",
              "      <td>Ambulance</td>\n",
              "      <td>NY</td>\n",
              "      <td>Columbus</td>\n",
              "      <td>3</td>\n",
              "      <td>?</td>\n",
              "      <td>Dodge</td>\n",
              "      <td>Neon</td>\n",
              "      <td>2008</td>\n",
              "      <td>NaN</td>\n",
              "      <td>65040.00</td>\n",
              "    </tr>\n",
              "  </tbody>\n",
              "</table>\n",
              "</div>"
            ],
            "text/plain": [
              "      Customer_ID  months_as_customer  age  ... auto_year _c39 total_claim_amount\n",
              "215  Customer_758                 436   60  ...      2005  NaN          109413.33\n",
              "329  Customer_515                 284   48  ...      2001  NaN           47666.67\n",
              "177  Customer_933                  36   37  ...      2008  NaN           65040.00\n",
              "\n",
              "[3 rows x 37 columns]"
            ]
          },
          "metadata": {
            "tags": []
          },
          "execution_count": 8
        }
      ]
    },
    {
      "cell_type": "code",
      "metadata": {
        "colab": {
          "base_uri": "https://localhost:8080/"
        },
        "id": "mZVyU_5NOxFU",
        "outputId": "43e47cf4-250d-43af-f29b-86ad11ca7e3d"
      },
      "source": [
        "train['insured_sex'].value_counts().plot(kind='bar',color='green')"
      ],
      "execution_count": null,
      "outputs": [
        {
          "output_type": "execute_result",
          "data": {
            "text/plain": [
              "<matplotlib.axes._subplots.AxesSubplot at 0x7fdb501a15d0>"
            ]
          },
          "metadata": {
            "tags": []
          },
          "execution_count": 9
        }
      ]
    },
    {
      "cell_type": "code",
      "metadata": {
        "id": "I_dVNSEsRVRe",
        "colab": {
          "base_uri": "https://localhost:8080/"
        },
        "outputId": "b515ef18-eb75-449b-9dc7-fa4212c54d59"
      },
      "source": [
        "train['age'].plot(kind='hist')"
      ],
      "execution_count": null,
      "outputs": [
        {
          "output_type": "execute_result",
          "data": {
            "text/plain": [
              "<matplotlib.axes._subplots.AxesSubplot at 0x7fdb501a15d0>"
            ]
          },
          "metadata": {
            "tags": []
          },
          "execution_count": 10
        }
      ]
    },
    {
      "cell_type": "code",
      "metadata": {
        "colab": {
          "base_uri": "https://localhost:8080/"
        },
        "id": "fRFdJj8jPYkE",
        "outputId": "5785f5ea-c130-4e5a-bb10-1cec4c875957"
      },
      "source": [
        "train['total_claim_amount'].plot(kind='hist',\n",
        "                                 bins=100)\n",
        "\n"
      ],
      "execution_count": null,
      "outputs": [
        {
          "output_type": "execute_result",
          "data": {
            "text/plain": [
              "<matplotlib.axes._subplots.AxesSubplot at 0x7fdb501a15d0>"
            ]
          },
          "metadata": {
            "tags": []
          },
          "execution_count": 11
        }
      ]
    },
    {
      "cell_type": "code",
      "metadata": {
        "id": "ZQjZYXQmIeKS"
      },
      "source": [
        "col = train.columns\n",
        "#for i in col: print(train[i].value_counts(),end='\\n\\n\\n')"
      ],
      "execution_count": null,
      "outputs": []
    },
    {
      "cell_type": "code",
      "metadata": {
        "colab": {
          "base_uri": "https://localhost:8080/"
        },
        "id": "QV2x4f608tPu",
        "outputId": "02b97dba-5b79-460a-d4ac-402965be6ec9"
      },
      "source": [
        "print(f'Number of Columns: {len(train.columns)}')"
      ],
      "execution_count": null,
      "outputs": [
        {
          "output_type": "stream",
          "text": [
            "Number of Columns: 37\n"
          ],
          "name": "stdout"
        }
      ]
    },
    {
      "cell_type": "markdown",
      "metadata": {
        "id": "Okhh4tUNEl2m"
      },
      "source": [
        "####**Data Processing and Cleaning**"
      ]
    },
    {
      "cell_type": "code",
      "metadata": {
        "id": "p-CfAfFYv3tD"
      },
      "source": [
        "correct = ['insured_sex','insured_education_level','insured_occupation','insured_hobbies','insured_relationship',\n",
        "       'policy_state','policy_csl','property_damage','incident_type', 'collision_type', 'incident_severity',\n",
        "       'authorities_contacted', 'incident_state', 'incident_city', 'police_report_available','auto_make', 'auto_model'\n",
        "       ]"
      ],
      "execution_count": null,
      "outputs": []
    },
    {
      "cell_type": "code",
      "metadata": {
        "id": "WLY9SU9FKwQt"
      },
      "source": [
        "#preprocessing\n",
        "special = ['policy_bind_date', 'incident_date', 'incident_location']\n",
        "drp = ['Customer_ID', '_c39','total_claim_amount']\n",
        " \n",
        " \n",
        "ox1 = train.drop(columns=drp, axis=1)\n",
        "ox2 = test.drop(columns=drp[:-1], axis=1)\n",
        " \n",
        "correct.append(special[-1])\n",
        "encode = LE()\n",
        "for c in correct:\n",
        "  ox1[c] = encode.fit_transform(ox1[c])\n",
        "  ox2[c] = encode.fit_transform(ox2[c])\n",
        "\n",
        "for i in special[:-1]:\n",
        "  ox1[i] = pd.to_datetime(ox1[i])\n",
        "  ox1[i] = ox1[i].map(dt.datetime.toordinal)\n",
        "\n",
        "  ox2[i] = pd.to_datetime(ox2[i])\n",
        "  ox2[i] = ox2[i].map(dt.datetime.toordinal) \n",
        " \n",
        "dx1 = pd.get_dummies(ox1)\n",
        "dx2 = pd.get_dummies(ox2)\n",
        " \n",
        " \n",
        "oy1 = train['total_claim_amount']"
      ],
      "execution_count": null,
      "outputs": []
    },
    {
      "cell_type": "code",
      "metadata": {
        "colab": {
          "base_uri": "https://localhost:8080/",
          "height": 241
        },
        "id": "nFOPhTaRQg7c",
        "outputId": "cea4f334-86b7-4a06-f33b-92ef7c67b924"
      },
      "source": [
        "ox1.head()"
      ],
      "execution_count": null,
      "outputs": [
        {
          "output_type": "execute_result",
          "data": {
            "text/html": [
              "<div>\n",
              "<style scoped>\n",
              "    .dataframe tbody tr th:only-of-type {\n",
              "        vertical-align: middle;\n",
              "    }\n",
              "\n",
              "    .dataframe tbody tr th {\n",
              "        vertical-align: top;\n",
              "    }\n",
              "\n",
              "    .dataframe thead th {\n",
              "        text-align: right;\n",
              "    }\n",
              "</style>\n",
              "<table border=\"1\" class=\"dataframe\">\n",
              "  <thead>\n",
              "    <tr style=\"text-align: right;\">\n",
              "      <th></th>\n",
              "      <th>months_as_customer</th>\n",
              "      <th>age</th>\n",
              "      <th>insured_sex</th>\n",
              "      <th>insured_education_level</th>\n",
              "      <th>insured_occupation</th>\n",
              "      <th>insured_hobbies</th>\n",
              "      <th>insured_relationship</th>\n",
              "      <th>capital-gains</th>\n",
              "      <th>capital-loss</th>\n",
              "      <th>policy_number</th>\n",
              "      <th>policy_bind_date</th>\n",
              "      <th>policy_state</th>\n",
              "      <th>policy_csl</th>\n",
              "      <th>policy_deductable</th>\n",
              "      <th>incident_location</th>\n",
              "      <th>incident_hour_of_the_day</th>\n",
              "      <th>number_of_vehicles_involved</th>\n",
              "      <th>property_damage</th>\n",
              "      <th>bodily_injuries</th>\n",
              "      <th>policy_annual_premium</th>\n",
              "      <th>umbrella_limit</th>\n",
              "      <th>insured_zip</th>\n",
              "      <th>incident_date</th>\n",
              "      <th>incident_type</th>\n",
              "      <th>collision_type</th>\n",
              "      <th>incident_severity</th>\n",
              "      <th>authorities_contacted</th>\n",
              "      <th>incident_state</th>\n",
              "      <th>incident_city</th>\n",
              "      <th>witnesses</th>\n",
              "      <th>police_report_available</th>\n",
              "      <th>auto_make</th>\n",
              "      <th>auto_model</th>\n",
              "      <th>auto_year</th>\n",
              "    </tr>\n",
              "  </thead>\n",
              "  <tbody>\n",
              "    <tr>\n",
              "      <th>0</th>\n",
              "      <td>239</td>\n",
              "      <td>41</td>\n",
              "      <td>0</td>\n",
              "      <td>3</td>\n",
              "      <td>4</td>\n",
              "      <td>13</td>\n",
              "      <td>2</td>\n",
              "      <td>51400</td>\n",
              "      <td>-6300</td>\n",
              "      <td>743092</td>\n",
              "      <td>639</td>\n",
              "      <td>2</td>\n",
              "      <td>1</td>\n",
              "      <td>1000</td>\n",
              "      <td>412</td>\n",
              "      <td>22</td>\n",
              "      <td>1</td>\n",
              "      <td>0</td>\n",
              "      <td>0</td>\n",
              "      <td>1325.44</td>\n",
              "      <td>7000000</td>\n",
              "      <td>474898</td>\n",
              "      <td>48</td>\n",
              "      <td>1</td>\n",
              "      <td>0</td>\n",
              "      <td>3</td>\n",
              "      <td>4</td>\n",
              "      <td>0</td>\n",
              "      <td>0</td>\n",
              "      <td>2</td>\n",
              "      <td>2</td>\n",
              "      <td>8</td>\n",
              "      <td>12</td>\n",
              "      <td>2013</td>\n",
              "    </tr>\n",
              "    <tr>\n",
              "      <th>1</th>\n",
              "      <td>108</td>\n",
              "      <td>31</td>\n",
              "      <td>1</td>\n",
              "      <td>5</td>\n",
              "      <td>10</td>\n",
              "      <td>19</td>\n",
              "      <td>1</td>\n",
              "      <td>0</td>\n",
              "      <td>0</td>\n",
              "      <td>492224</td>\n",
              "      <td>444</td>\n",
              "      <td>1</td>\n",
              "      <td>2</td>\n",
              "      <td>2000</td>\n",
              "      <td>366</td>\n",
              "      <td>14</td>\n",
              "      <td>1</td>\n",
              "      <td>1</td>\n",
              "      <td>0</td>\n",
              "      <td>1175.70</td>\n",
              "      <td>0</td>\n",
              "      <td>608767</td>\n",
              "      <td>49</td>\n",
              "      <td>2</td>\n",
              "      <td>2</td>\n",
              "      <td>2</td>\n",
              "      <td>1</td>\n",
              "      <td>1</td>\n",
              "      <td>1</td>\n",
              "      <td>2</td>\n",
              "      <td>1</td>\n",
              "      <td>4</td>\n",
              "      <td>27</td>\n",
              "      <td>2006</td>\n",
              "    </tr>\n",
              "    <tr>\n",
              "      <th>2</th>\n",
              "      <td>116</td>\n",
              "      <td>30</td>\n",
              "      <td>1</td>\n",
              "      <td>3</td>\n",
              "      <td>5</td>\n",
              "      <td>9</td>\n",
              "      <td>1</td>\n",
              "      <td>0</td>\n",
              "      <td>-35500</td>\n",
              "      <td>996253</td>\n",
              "      <td>334</td>\n",
              "      <td>1</td>\n",
              "      <td>2</td>\n",
              "      <td>500</td>\n",
              "      <td>21</td>\n",
              "      <td>8</td>\n",
              "      <td>3</td>\n",
              "      <td>1</td>\n",
              "      <td>0</td>\n",
              "      <td>951.46</td>\n",
              "      <td>0</td>\n",
              "      <td>467227</td>\n",
              "      <td>30</td>\n",
              "      <td>0</td>\n",
              "      <td>1</td>\n",
              "      <td>0</td>\n",
              "      <td>3</td>\n",
              "      <td>6</td>\n",
              "      <td>5</td>\n",
              "      <td>3</td>\n",
              "      <td>0</td>\n",
              "      <td>13</td>\n",
              "      <td>28</td>\n",
              "      <td>2004</td>\n",
              "    </tr>\n",
              "    <tr>\n",
              "      <th>3</th>\n",
              "      <td>8</td>\n",
              "      <td>21</td>\n",
              "      <td>1</td>\n",
              "      <td>2</td>\n",
              "      <td>5</td>\n",
              "      <td>10</td>\n",
              "      <td>0</td>\n",
              "      <td>0</td>\n",
              "      <td>0</td>\n",
              "      <td>355085</td>\n",
              "      <td>610</td>\n",
              "      <td>1</td>\n",
              "      <td>2</td>\n",
              "      <td>500</td>\n",
              "      <td>402</td>\n",
              "      <td>21</td>\n",
              "      <td>1</td>\n",
              "      <td>0</td>\n",
              "      <td>0</td>\n",
              "      <td>1021.90</td>\n",
              "      <td>0</td>\n",
              "      <td>464237</td>\n",
              "      <td>35</td>\n",
              "      <td>2</td>\n",
              "      <td>1</td>\n",
              "      <td>0</td>\n",
              "      <td>3</td>\n",
              "      <td>6</td>\n",
              "      <td>1</td>\n",
              "      <td>0</td>\n",
              "      <td>0</td>\n",
              "      <td>12</td>\n",
              "      <td>11</td>\n",
              "      <td>2012</td>\n",
              "    </tr>\n",
              "    <tr>\n",
              "      <th>4</th>\n",
              "      <td>161</td>\n",
              "      <td>38</td>\n",
              "      <td>1</td>\n",
              "      <td>6</td>\n",
              "      <td>8</td>\n",
              "      <td>8</td>\n",
              "      <td>1</td>\n",
              "      <td>60200</td>\n",
              "      <td>0</td>\n",
              "      <td>192524</td>\n",
              "      <td>392</td>\n",
              "      <td>0</td>\n",
              "      <td>0</td>\n",
              "      <td>2000</td>\n",
              "      <td>99</td>\n",
              "      <td>0</td>\n",
              "      <td>3</td>\n",
              "      <td>2</td>\n",
              "      <td>2</td>\n",
              "      <td>1133.85</td>\n",
              "      <td>0</td>\n",
              "      <td>439870</td>\n",
              "      <td>2</td>\n",
              "      <td>0</td>\n",
              "      <td>1</td>\n",
              "      <td>2</td>\n",
              "      <td>4</td>\n",
              "      <td>6</td>\n",
              "      <td>6</td>\n",
              "      <td>2</td>\n",
              "      <td>2</td>\n",
              "      <td>13</td>\n",
              "      <td>20</td>\n",
              "      <td>2003</td>\n",
              "    </tr>\n",
              "  </tbody>\n",
              "</table>\n",
              "</div>"
            ],
            "text/plain": [
              "   months_as_customer  age  insured_sex  ...  auto_make  auto_model  auto_year\n",
              "0                 239   41            0  ...          8          12       2013\n",
              "1                 108   31            1  ...          4          27       2006\n",
              "2                 116   30            1  ...         13          28       2004\n",
              "3                   8   21            1  ...         12          11       2012\n",
              "4                 161   38            1  ...         13          20       2003\n",
              "\n",
              "[5 rows x 34 columns]"
            ]
          },
          "metadata": {
            "tags": []
          },
          "execution_count": 16
        }
      ]
    },
    {
      "cell_type": "code",
      "metadata": {
        "colab": {
          "base_uri": "https://localhost:8080/",
          "height": 438
        },
        "id": "88WDpYKGIYfR",
        "outputId": "c1fc5d0d-988b-4970-8cc7-a359d36987a9"
      },
      "source": [
        "%matplotlib inline\n",
        " \n",
        "plt.title('Training Feature correlation',fontsize=16)\n",
        "sns.heatmap(dx1.corr())\n",
        "plt.figure(figsize=(16,6))\n",
        "plt.show()"
      ],
      "execution_count": null,
      "outputs": [
        {
          "output_type": "display_data",
          "data": {
            "image/png": "[encoded data removed]",
            "text/plain": [
              "<Figure size 432x288 with 2 Axes>"
            ]
          },
          "metadata": {
            "tags": [],
            "needs_background": "light"
          }
        },
        {
          "output_type": "display_data",
          "data": {
            "text/plain": [
              "<Figure size 1152x432 with 0 Axes>"
            ]
          },
          "metadata": {
            "tags": []
          }
        }
      ]
    },
    {
      "cell_type": "code",
      "metadata": {
        "colab": {
          "base_uri": "https://localhost:8080/",
          "height": 241
        },
        "id": "DC2aHa8JR7yU",
        "outputId": "5bfff536-608f-4521-a52e-a8c45ecc64c8"
      },
      "source": [
        "ox1.head()"
      ],
      "execution_count": null,
      "outputs": [
        {
          "output_type": "execute_result",
          "data": {
            "text/html": [
              "<div>\n",
              "<style scoped>\n",
              "    .dataframe tbody tr th:only-of-type {\n",
              "        vertical-align: middle;\n",
              "    }\n",
              "\n",
              "    .dataframe tbody tr th {\n",
              "        vertical-align: top;\n",
              "    }\n",
              "\n",
              "    .dataframe thead th {\n",
              "        text-align: right;\n",
              "    }\n",
              "</style>\n",
              "<table border=\"1\" class=\"dataframe\">\n",
              "  <thead>\n",
              "    <tr style=\"text-align: right;\">\n",
              "      <th></th>\n",
              "      <th>months_as_customer</th>\n",
              "      <th>age</th>\n",
              "      <th>insured_sex</th>\n",
              "      <th>insured_education_level</th>\n",
              "      <th>insured_occupation</th>\n",
              "      <th>insured_hobbies</th>\n",
              "      <th>insured_relationship</th>\n",
              "      <th>capital-gains</th>\n",
              "      <th>capital-loss</th>\n",
              "      <th>policy_number</th>\n",
              "      <th>policy_bind_date</th>\n",
              "      <th>policy_state</th>\n",
              "      <th>policy_csl</th>\n",
              "      <th>policy_deductable</th>\n",
              "      <th>incident_location</th>\n",
              "      <th>incident_hour_of_the_day</th>\n",
              "      <th>number_of_vehicles_involved</th>\n",
              "      <th>property_damage</th>\n",
              "      <th>bodily_injuries</th>\n",
              "      <th>policy_annual_premium</th>\n",
              "      <th>umbrella_limit</th>\n",
              "      <th>insured_zip</th>\n",
              "      <th>incident_date</th>\n",
              "      <th>incident_type</th>\n",
              "      <th>collision_type</th>\n",
              "      <th>incident_severity</th>\n",
              "      <th>authorities_contacted</th>\n",
              "      <th>incident_state</th>\n",
              "      <th>incident_city</th>\n",
              "      <th>witnesses</th>\n",
              "      <th>police_report_available</th>\n",
              "      <th>auto_make</th>\n",
              "      <th>auto_model</th>\n",
              "      <th>auto_year</th>\n",
              "    </tr>\n",
              "  </thead>\n",
              "  <tbody>\n",
              "    <tr>\n",
              "      <th>0</th>\n",
              "      <td>239</td>\n",
              "      <td>41</td>\n",
              "      <td>0</td>\n",
              "      <td>3</td>\n",
              "      <td>4</td>\n",
              "      <td>13</td>\n",
              "      <td>2</td>\n",
              "      <td>51400</td>\n",
              "      <td>-6300</td>\n",
              "      <td>743092</td>\n",
              "      <td>639</td>\n",
              "      <td>2</td>\n",
              "      <td>1</td>\n",
              "      <td>1000</td>\n",
              "      <td>412</td>\n",
              "      <td>22</td>\n",
              "      <td>1</td>\n",
              "      <td>0</td>\n",
              "      <td>0</td>\n",
              "      <td>1325.44</td>\n",
              "      <td>7000000</td>\n",
              "      <td>474898</td>\n",
              "      <td>48</td>\n",
              "      <td>1</td>\n",
              "      <td>0</td>\n",
              "      <td>3</td>\n",
              "      <td>4</td>\n",
              "      <td>0</td>\n",
              "      <td>0</td>\n",
              "      <td>2</td>\n",
              "      <td>2</td>\n",
              "      <td>8</td>\n",
              "      <td>12</td>\n",
              "      <td>2013</td>\n",
              "    </tr>\n",
              "    <tr>\n",
              "      <th>1</th>\n",
              "      <td>108</td>\n",
              "      <td>31</td>\n",
              "      <td>1</td>\n",
              "      <td>5</td>\n",
              "      <td>10</td>\n",
              "      <td>19</td>\n",
              "      <td>1</td>\n",
              "      <td>0</td>\n",
              "      <td>0</td>\n",
              "      <td>492224</td>\n",
              "      <td>444</td>\n",
              "      <td>1</td>\n",
              "      <td>2</td>\n",
              "      <td>2000</td>\n",
              "      <td>366</td>\n",
              "      <td>14</td>\n",
              "      <td>1</td>\n",
              "      <td>1</td>\n",
              "      <td>0</td>\n",
              "      <td>1175.70</td>\n",
              "      <td>0</td>\n",
              "      <td>608767</td>\n",
              "      <td>49</td>\n",
              "      <td>2</td>\n",
              "      <td>2</td>\n",
              "      <td>2</td>\n",
              "      <td>1</td>\n",
              "      <td>1</td>\n",
              "      <td>1</td>\n",
              "      <td>2</td>\n",
              "      <td>1</td>\n",
              "      <td>4</td>\n",
              "      <td>27</td>\n",
              "      <td>2006</td>\n",
              "    </tr>\n",
              "    <tr>\n",
              "      <th>2</th>\n",
              "      <td>116</td>\n",
              "      <td>30</td>\n",
              "      <td>1</td>\n",
              "      <td>3</td>\n",
              "      <td>5</td>\n",
              "      <td>9</td>\n",
              "      <td>1</td>\n",
              "      <td>0</td>\n",
              "      <td>-35500</td>\n",
              "      <td>996253</td>\n",
              "      <td>334</td>\n",
              "      <td>1</td>\n",
              "      <td>2</td>\n",
              "      <td>500</td>\n",
              "      <td>21</td>\n",
              "      <td>8</td>\n",
              "      <td>3</td>\n",
              "      <td>1</td>\n",
              "      <td>0</td>\n",
              "      <td>951.46</td>\n",
              "      <td>0</td>\n",
              "      <td>467227</td>\n",
              "      <td>30</td>\n",
              "      <td>0</td>\n",
              "      <td>1</td>\n",
              "      <td>0</td>\n",
              "      <td>3</td>\n",
              "      <td>6</td>\n",
              "      <td>5</td>\n",
              "      <td>3</td>\n",
              "      <td>0</td>\n",
              "      <td>13</td>\n",
              "      <td>28</td>\n",
              "      <td>2004</td>\n",
              "    </tr>\n",
              "    <tr>\n",
              "      <th>3</th>\n",
              "      <td>8</td>\n",
              "      <td>21</td>\n",
              "      <td>1</td>\n",
              "      <td>2</td>\n",
              "      <td>5</td>\n",
              "      <td>10</td>\n",
              "      <td>0</td>\n",
              "      <td>0</td>\n",
              "      <td>0</td>\n",
              "      <td>355085</td>\n",
              "      <td>610</td>\n",
              "      <td>1</td>\n",
              "      <td>2</td>\n",
              "      <td>500</td>\n",
              "      <td>402</td>\n",
              "      <td>21</td>\n",
              "      <td>1</td>\n",
              "      <td>0</td>\n",
              "      <td>0</td>\n",
              "      <td>1021.90</td>\n",
              "      <td>0</td>\n",
              "      <td>464237</td>\n",
              "      <td>35</td>\n",
              "      <td>2</td>\n",
              "      <td>1</td>\n",
              "      <td>0</td>\n",
              "      <td>3</td>\n",
              "      <td>6</td>\n",
              "      <td>1</td>\n",
              "      <td>0</td>\n",
              "      <td>0</td>\n",
              "      <td>12</td>\n",
              "      <td>11</td>\n",
              "      <td>2012</td>\n",
              "    </tr>\n",
              "    <tr>\n",
              "      <th>4</th>\n",
              "      <td>161</td>\n",
              "      <td>38</td>\n",
              "      <td>1</td>\n",
              "      <td>6</td>\n",
              "      <td>8</td>\n",
              "      <td>8</td>\n",
              "      <td>1</td>\n",
              "      <td>60200</td>\n",
              "      <td>0</td>\n",
              "      <td>192524</td>\n",
              "      <td>392</td>\n",
              "      <td>0</td>\n",
              "      <td>0</td>\n",
              "      <td>2000</td>\n",
              "      <td>99</td>\n",
              "      <td>0</td>\n",
              "      <td>3</td>\n",
              "      <td>2</td>\n",
              "      <td>2</td>\n",
              "      <td>1133.85</td>\n",
              "      <td>0</td>\n",
              "      <td>439870</td>\n",
              "      <td>2</td>\n",
              "      <td>0</td>\n",
              "      <td>1</td>\n",
              "      <td>2</td>\n",
              "      <td>4</td>\n",
              "      <td>6</td>\n",
              "      <td>6</td>\n",
              "      <td>2</td>\n",
              "      <td>2</td>\n",
              "      <td>13</td>\n",
              "      <td>20</td>\n",
              "      <td>2003</td>\n",
              "    </tr>\n",
              "  </tbody>\n",
              "</table>\n",
              "</div>"
            ],
            "text/plain": [
              "   months_as_customer  age  insured_sex  ...  auto_make  auto_model  auto_year\n",
              "0                 239   41            0  ...          8          12       2013\n",
              "1                 108   31            1  ...          4          27       2006\n",
              "2                 116   30            1  ...         13          28       2004\n",
              "3                   8   21            1  ...         12          11       2012\n",
              "4                 161   38            1  ...         13          20       2003\n",
              "\n",
              "[5 rows x 34 columns]"
            ]
          },
          "metadata": {
            "tags": []
          },
          "execution_count": 18
        }
      ]
    },
    {
      "cell_type": "code",
      "metadata": {
        "colab": {
          "base_uri": "https://localhost:8080/",
          "height": 179
        },
        "id": "4djvqClH1KAV",
        "outputId": "a8c8ea8d-e64b-4c5e-f48e-01fe222a824e"
      },
      "source": [
        " \n",
        "#definite feature matrix\n",
        "dx1.sample(3)"
      ],
      "execution_count": null,
      "outputs": [
        {
          "output_type": "execute_result",
          "data": {
            "text/html": [
              "<div>\n",
              "<style scoped>\n",
              "    .dataframe tbody tr th:only-of-type {\n",
              "        vertical-align: middle;\n",
              "    }\n",
              "\n",
              "    .dataframe tbody tr th {\n",
              "        vertical-align: top;\n",
              "    }\n",
              "\n",
              "    .dataframe thead th {\n",
              "        text-align: right;\n",
              "    }\n",
              "</style>\n",
              "<table border=\"1\" class=\"dataframe\">\n",
              "  <thead>\n",
              "    <tr style=\"text-align: right;\">\n",
              "      <th></th>\n",
              "      <th>months_as_customer</th>\n",
              "      <th>age</th>\n",
              "      <th>insured_sex</th>\n",
              "      <th>insured_education_level</th>\n",
              "      <th>insured_occupation</th>\n",
              "      <th>insured_hobbies</th>\n",
              "      <th>insured_relationship</th>\n",
              "      <th>capital-gains</th>\n",
              "      <th>capital-loss</th>\n",
              "      <th>policy_number</th>\n",
              "      <th>policy_bind_date</th>\n",
              "      <th>policy_state</th>\n",
              "      <th>policy_csl</th>\n",
              "      <th>policy_deductable</th>\n",
              "      <th>incident_location</th>\n",
              "      <th>incident_hour_of_the_day</th>\n",
              "      <th>number_of_vehicles_involved</th>\n",
              "      <th>property_damage</th>\n",
              "      <th>bodily_injuries</th>\n",
              "      <th>policy_annual_premium</th>\n",
              "      <th>umbrella_limit</th>\n",
              "      <th>insured_zip</th>\n",
              "      <th>incident_date</th>\n",
              "      <th>incident_type</th>\n",
              "      <th>collision_type</th>\n",
              "      <th>incident_severity</th>\n",
              "      <th>authorities_contacted</th>\n",
              "      <th>incident_state</th>\n",
              "      <th>incident_city</th>\n",
              "      <th>witnesses</th>\n",
              "      <th>police_report_available</th>\n",
              "      <th>auto_make</th>\n",
              "      <th>auto_model</th>\n",
              "      <th>auto_year</th>\n",
              "    </tr>\n",
              "  </thead>\n",
              "  <tbody>\n",
              "    <tr>\n",
              "      <th>667</th>\n",
              "      <td>163</td>\n",
              "      <td>38</td>\n",
              "      <td>0</td>\n",
              "      <td>6</td>\n",
              "      <td>7</td>\n",
              "      <td>19</td>\n",
              "      <td>2</td>\n",
              "      <td>51700</td>\n",
              "      <td>0</td>\n",
              "      <td>413192</td>\n",
              "      <td>225</td>\n",
              "      <td>1</td>\n",
              "      <td>2</td>\n",
              "      <td>2000</td>\n",
              "      <td>233</td>\n",
              "      <td>13</td>\n",
              "      <td>1</td>\n",
              "      <td>2</td>\n",
              "      <td>2</td>\n",
              "      <td>1453.92</td>\n",
              "      <td>0</td>\n",
              "      <td>607605</td>\n",
              "      <td>51</td>\n",
              "      <td>2</td>\n",
              "      <td>3</td>\n",
              "      <td>1</td>\n",
              "      <td>0</td>\n",
              "      <td>1</td>\n",
              "      <td>2</td>\n",
              "      <td>3</td>\n",
              "      <td>0</td>\n",
              "      <td>0</td>\n",
              "      <td>23</td>\n",
              "      <td>1995</td>\n",
              "    </tr>\n",
              "    <tr>\n",
              "      <th>557</th>\n",
              "      <td>166</td>\n",
              "      <td>34</td>\n",
              "      <td>0</td>\n",
              "      <td>2</td>\n",
              "      <td>6</td>\n",
              "      <td>0</td>\n",
              "      <td>5</td>\n",
              "      <td>65600</td>\n",
              "      <td>-68200</td>\n",
              "      <td>405533</td>\n",
              "      <td>665</td>\n",
              "      <td>2</td>\n",
              "      <td>0</td>\n",
              "      <td>1000</td>\n",
              "      <td>201</td>\n",
              "      <td>18</td>\n",
              "      <td>1</td>\n",
              "      <td>1</td>\n",
              "      <td>0</td>\n",
              "      <td>1083.72</td>\n",
              "      <td>0</td>\n",
              "      <td>617774</td>\n",
              "      <td>39</td>\n",
              "      <td>2</td>\n",
              "      <td>3</td>\n",
              "      <td>2</td>\n",
              "      <td>3</td>\n",
              "      <td>1</td>\n",
              "      <td>1</td>\n",
              "      <td>2</td>\n",
              "      <td>2</td>\n",
              "      <td>6</td>\n",
              "      <td>8</td>\n",
              "      <td>2005</td>\n",
              "    </tr>\n",
              "    <tr>\n",
              "      <th>201</th>\n",
              "      <td>261</td>\n",
              "      <td>45</td>\n",
              "      <td>0</td>\n",
              "      <td>6</td>\n",
              "      <td>9</td>\n",
              "      <td>11</td>\n",
              "      <td>2</td>\n",
              "      <td>0</td>\n",
              "      <td>-45100</td>\n",
              "      <td>249048</td>\n",
              "      <td>424</td>\n",
              "      <td>0</td>\n",
              "      <td>1</td>\n",
              "      <td>1000</td>\n",
              "      <td>395</td>\n",
              "      <td>16</td>\n",
              "      <td>1</td>\n",
              "      <td>2</td>\n",
              "      <td>0</td>\n",
              "      <td>1254.18</td>\n",
              "      <td>0</td>\n",
              "      <td>457555</td>\n",
              "      <td>10</td>\n",
              "      <td>2</td>\n",
              "      <td>2</td>\n",
              "      <td>1</td>\n",
              "      <td>1</td>\n",
              "      <td>4</td>\n",
              "      <td>1</td>\n",
              "      <td>1</td>\n",
              "      <td>0</td>\n",
              "      <td>13</td>\n",
              "      <td>20</td>\n",
              "      <td>2003</td>\n",
              "    </tr>\n",
              "  </tbody>\n",
              "</table>\n",
              "</div>"
            ],
            "text/plain": [
              "     months_as_customer  age  insured_sex  ...  auto_make  auto_model  auto_year\n",
              "667                 163   38            0  ...          0          23       1995\n",
              "557                 166   34            0  ...          6           8       2005\n",
              "201                 261   45            0  ...         13          20       2003\n",
              "\n",
              "[3 rows x 34 columns]"
            ]
          },
          "metadata": {
            "tags": []
          },
          "execution_count": 19
        }
      ]
    },
    {
      "cell_type": "markdown",
      "metadata": {
        "id": "MLdYTZ0jGNXP"
      },
      "source": [
        "> #### **Dataset split**\n",
        "- a = x_train\n",
        "- b = y_train\n",
        "- a2 = x_test\n",
        "- b2 = y_test"
      ]
    },
    {
      "cell_type": "code",
      "metadata": {
        "id": "Uc53EzZBkMcx"
      },
      "source": [
        "a, a2, b, b2 = TTS(dx1, oy1, test_size=0.2)"
      ],
      "execution_count": null,
      "outputs": []
    },
    {
      "cell_type": "code",
      "metadata": {
        "id": "qc4FBRBNCkm7"
      },
      "source": [
        "#Classic Random Forest Regressor\n",
        "rg = RFR().fit(ox1, oy1)\n",
        "pred = rg.predict(ox2)"
      ],
      "execution_count": null,
      "outputs": []
    },
    {
      "cell_type": "code",
      "metadata": {
        "colab": {
          "base_uri": "https://localhost:8080/"
        },
        "id": "_-SZRSYdkdVV",
        "outputId": "6dadceca-2a2a-4c4c-d4b5-48d08de6017c"
      },
      "source": [
        "#RMSE\n",
        "rg2 = xgb.XGBRFRegressor().fit(a,b)\n",
        "pred2 = rg2.predict(a2)\n",
        "sqrt(MSE(b2, pred2))"
      ],
      "execution_count": null,
      "outputs": [
        {
          "output_type": "stream",
          "text": [
            "[10:48:21] WARNING: /workspace/src/objective/regression_obj.cu:152: reg:linear is now deprecated in favor of reg:squarederror.\n"
          ],
          "name": "stdout"
        },
        {
          "output_type": "execute_result",
          "data": {
            "text/plain": [
              "17994.931592200228"
            ]
          },
          "metadata": {
            "tags": []
          },
          "execution_count": 71
        }
      ]
    },
    {
      "cell_type": "code",
      "metadata": {
        "colab": {
          "base_uri": "https://localhost:8080/",
          "height": 298
        },
        "id": "UuxOvVZYGl0b",
        "outputId": "f599e57e-2cfd-4c66-b63b-ecfade597de3"
      },
      "source": [
        "sns.boxplot(b2)"
      ],
      "execution_count": null,
      "outputs": [
        {
          "output_type": "execute_result",
          "data": {
            "text/plain": [
              "<matplotlib.axes._subplots.AxesSubplot at 0x7fdb477f9e50>"
            ]
          },
          "metadata": {
            "tags": []
          },
          "execution_count": 73
        },
        {
          "output_type": "display_data",
          "data": {
            "image/png": "[encoded data removed]",
            "text/plain": [
              "<Figure size 432x288 with 1 Axes>"
            ]
          },
          "metadata": {
            "tags": [],
            "needs_background": "light"
          }
        }
      ]
    },
    {
      "cell_type": "code",
      "metadata": {
        "colab": {
          "base_uri": "https://localhost:8080/",
          "height": 283
        },
        "id": "DF8D3vYwG5KI",
        "outputId": "02950e99-0699-462d-d815-384c09355f90"
      },
      "source": [
        "sns.boxplot(pred)"
      ],
      "execution_count": null,
      "outputs": [
        {
          "output_type": "execute_result",
          "data": {
            "text/plain": [
              "<matplotlib.axes._subplots.AxesSubplot at 0x7fdb476fe290>"
            ]
          },
          "metadata": {
            "tags": []
          },
          "execution_count": 74
        },
        {
          "output_type": "display_data",
          "data": {
            "image/png": "[encoded data removed]",
            "text/plain": [
              "<Figure size 432x288 with 1 Axes>"
            ]
          },
          "metadata": {
            "tags": [],
            "needs_background": "light"
          }
        }
      ]
    },
    {
      "cell_type": "code",
      "metadata": {
        "id": "Ot3Yw_z3UayH"
      },
      "source": [
        ""
      ],
      "execution_count": null,
      "outputs": []
    },
    {
      "cell_type": "code",
      "metadata": {
        "id": "pdn7WdcEUbDv"
      },
      "source": [
        ""
      ],
      "execution_count": null,
      "outputs": []
    },
    {
      "cell_type": "code",
      "metadata": {
        "id": "Z2Ntzu6FYA7n"
      },
      "source": [
        ""
      ],
      "execution_count": null,
      "outputs": []
    },
    {
      "cell_type": "markdown",
      "metadata": {
        "id": "hwOzlQuIW2nx"
      },
      "source": [
        "## ***`XGBoost`*: DMatrix and Random Forest Regression**"
      ]
    },
    {
      "cell_type": "code",
      "metadata": {
        "id": "TQ1Yh5O2S2h0"
      },
      "source": [
        "import xgboost as xgb\n",
        "dtrain = xgb.DMatrix(a, label=b)\n",
        "dval = xgb.DMatrix(a2, label=b2)"
      ],
      "execution_count": null,
      "outputs": []
    },
    {
      "cell_type": "code",
      "metadata": {
        "id": "xqDYB8iBoy_v"
      },
      "source": [
        "params = {'colsample_bytree': 0.9,\n",
        " 'eta': 0.05,\n",
        " 'eval_metric': 'rmse',\n",
        " 'learning_rate': 0.01,\n",
        " 'max_depth': 9,\n",
        " 'min_child_weight': 7,\n",
        " 'objective': 'reg:squarederror',\n",
        " 'reg_lambda': 0.5,\n",
        " 'subsample': 0.7}"
      ],
      "execution_count": null,
      "outputs": []
    },
    {
      "cell_type": "code",
      "metadata": {
        "colab": {
          "base_uri": "https://localhost:8080/"
        },
        "id": "4vMI94_RuOrs",
        "outputId": "f2ab5df7-ce17-4d9c-bedd-ebe934c8f4c0"
      },
      "source": [
        "params"
      ],
      "execution_count": null,
      "outputs": [
        {
          "output_type": "execute_result",
          "data": {
            "text/plain": [
              "{'colsample_bytree': 0.9,\n",
              " 'eta': 0.05,\n",
              " 'eval_metric': 'rmse',\n",
              " 'learning_rate': 0.01,\n",
              " 'max_depth': 9,\n",
              " 'min_child_weight': 7,\n",
              " 'objective': 'reg:squarederror',\n",
              " 'reg_lambda': 0.5,\n",
              " 'subsample': 0.7}"
            ]
          },
          "metadata": {
            "tags": []
          },
          "execution_count": 78
        }
      ]
    },
    {
      "cell_type": "code",
      "metadata": {
        "id": "UUbBSuUeFEGu"
      },
      "source": [
        "super_reg = xgb.XGBRFRegressor\n",
        "num_boost_round = 300"
      ],
      "execution_count": null,
      "outputs": []
    },
    {
      "cell_type": "code",
      "metadata": {
        "colab": {
          "base_uri": "https://localhost:8080/"
        },
        "id": "89vvpu0SbWfI",
        "outputId": "d1ab6b09-d4b7-4446-e512-b2dcde7b5731"
      },
      "source": [
        "model = xgb.train(\n",
        "    params,\n",
        "    dtrain,\n",
        "    num_boost_round = num_boost_round,\n",
        "    evals=[(dval, \"Val\")],\n",
        "    early_stopping_rounds=10\n",
        ")\n",
        " \n",
        " \n",
        " \n",
        "model2 = super_reg(\n",
        "    #params,\n",
        "    colsample_bytree =0.7,\n",
        "    eta = 0.05,\n",
        "    eval_metric = 'rmse',\n",
        "    max_depth = 9,\n",
        "    min_child_weight = 7,\n",
        "    objective = 'reg:squarederror',\n",
        "    subsample = 1.0,\n",
        "    n_estimators = 10,\n",
        "    num_boost_round = num_boost_round,\n",
        "    evals = [(dval, \"Val\")],\n",
        "    early_stopping_rounds = 10,\n",
        "    reg_lambda = 0.5,\n",
        "    random_state = 0)"
      ],
      "execution_count": null,
      "outputs": [
        {
          "output_type": "stream",
          "text": [
            "[0]\tVal-rmse:79147.6\n",
            "Will train until Val-rmse hasn't improved in 10 rounds.\n",
            "[1]\tVal-rmse:78394.7\n",
            "[2]\tVal-rmse:77655.6\n",
            "[3]\tVal-rmse:76920.7\n",
            "[4]\tVal-rmse:76192.8\n",
            "[5]\tVal-rmse:75478\n",
            "[6]\tVal-rmse:74774.2\n",
            "[7]\tVal-rmse:74090\n",
            "[8]\tVal-rmse:73403.5\n",
            "[9]\tVal-rmse:72714.6\n",
            "[10]\tVal-rmse:72032.3\n",
            "[11]\tVal-rmse:71355.5\n",
            "[12]\tVal-rmse:70674.6\n",
            "[13]\tVal-rmse:70036.5\n",
            "[14]\tVal-rmse:69385.4\n",
            "[15]\tVal-rmse:68752.1\n",
            "[16]\tVal-rmse:68090.2\n",
            "[17]\tVal-rmse:67437.2\n",
            "[18]\tVal-rmse:66814.5\n",
            "[19]\tVal-rmse:66210.9\n",
            "[20]\tVal-rmse:65641.4\n",
            "[21]\tVal-rmse:65029.2\n",
            "[22]\tVal-rmse:64429.1\n",
            "[23]\tVal-rmse:63836.6\n",
            "[24]\tVal-rmse:63245.2\n",
            "[25]\tVal-rmse:62675\n",
            "[26]\tVal-rmse:62127\n",
            "[27]\tVal-rmse:61551.6\n",
            "[28]\tVal-rmse:61005\n",
            "[29]\tVal-rmse:60469.3\n",
            "[30]\tVal-rmse:59935.6\n",
            "[31]\tVal-rmse:59393.1\n",
            "[32]\tVal-rmse:58870.3\n",
            "[33]\tVal-rmse:58378\n",
            "[34]\tVal-rmse:57854.7\n",
            "[35]\tVal-rmse:57330.2\n",
            "[36]\tVal-rmse:56824\n",
            "[37]\tVal-rmse:56302.4\n",
            "[38]\tVal-rmse:55799.2\n",
            "[39]\tVal-rmse:55319.1\n",
            "[40]\tVal-rmse:54857.8\n",
            "[41]\tVal-rmse:54363.8\n",
            "[42]\tVal-rmse:53884.2\n",
            "[43]\tVal-rmse:53398.4\n",
            "[44]\tVal-rmse:52934.2\n",
            "[45]\tVal-rmse:52471\n",
            "[46]\tVal-rmse:51990.6\n",
            "[47]\tVal-rmse:51565.6\n",
            "[48]\tVal-rmse:51129.5\n",
            "[49]\tVal-rmse:50686.1\n",
            "[50]\tVal-rmse:50268.1\n",
            "[51]\tVal-rmse:49830.4\n",
            "[52]\tVal-rmse:49385.5\n",
            "[53]\tVal-rmse:48982.3\n",
            "[54]\tVal-rmse:48565.8\n",
            "[55]\tVal-rmse:48140.5\n",
            "[56]\tVal-rmse:47722.1\n",
            "[57]\tVal-rmse:47323.2\n",
            "[58]\tVal-rmse:46934.9\n",
            "[59]\tVal-rmse:46558.1\n",
            "[60]\tVal-rmse:46153\n",
            "[61]\tVal-rmse:45752.3\n",
            "[62]\tVal-rmse:45369.7\n",
            "[63]\tVal-rmse:44987.3\n",
            "[64]\tVal-rmse:44624.3\n",
            "[65]\tVal-rmse:44272.3\n",
            "[66]\tVal-rmse:43937.5\n",
            "[67]\tVal-rmse:43585.2\n",
            "[68]\tVal-rmse:43244.5\n",
            "[69]\tVal-rmse:42909.9\n",
            "[70]\tVal-rmse:42577.8\n",
            "[71]\tVal-rmse:42251.9\n",
            "[72]\tVal-rmse:41924.8\n",
            "[73]\tVal-rmse:41570\n",
            "[74]\tVal-rmse:41254.7\n",
            "[75]\tVal-rmse:40918.8\n",
            "[76]\tVal-rmse:40632.5\n",
            "[77]\tVal-rmse:40320.4\n",
            "[78]\tVal-rmse:40031.7\n",
            "[79]\tVal-rmse:39727.8\n",
            "[80]\tVal-rmse:39438.5\n",
            "[81]\tVal-rmse:39119.3\n",
            "[82]\tVal-rmse:38822\n",
            "[83]\tVal-rmse:38511.6\n",
            "[84]\tVal-rmse:38211.7\n",
            "[85]\tVal-rmse:37925.9\n",
            "[86]\tVal-rmse:37643.2\n",
            "[87]\tVal-rmse:37365.3\n",
            "[88]\tVal-rmse:37074\n",
            "[89]\tVal-rmse:36799.1\n",
            "[90]\tVal-rmse:36536.3\n",
            "[91]\tVal-rmse:36248.7\n",
            "[92]\tVal-rmse:35974.3\n",
            "[93]\tVal-rmse:35718.3\n",
            "[94]\tVal-rmse:35459.5\n",
            "[95]\tVal-rmse:35219.1\n",
            "[96]\tVal-rmse:34971.2\n",
            "[97]\tVal-rmse:34739.9\n",
            "[98]\tVal-rmse:34504.2\n",
            "[99]\tVal-rmse:34286.1\n",
            "[100]\tVal-rmse:34044\n",
            "[101]\tVal-rmse:33788.2\n",
            "[102]\tVal-rmse:33547.5\n",
            "[103]\tVal-rmse:33317.8\n",
            "[104]\tVal-rmse:33105.1\n",
            "[105]\tVal-rmse:32888.2\n",
            "[106]\tVal-rmse:32662.7\n",
            "[107]\tVal-rmse:32434\n",
            "[108]\tVal-rmse:32234.2\n",
            "[109]\tVal-rmse:32002.6\n",
            "[110]\tVal-rmse:31791.3\n",
            "[111]\tVal-rmse:31597.9\n",
            "[112]\tVal-rmse:31411.4\n",
            "[113]\tVal-rmse:31204.1\n",
            "[114]\tVal-rmse:31014.3\n",
            "[115]\tVal-rmse:30814.9\n",
            "[116]\tVal-rmse:30626\n",
            "[117]\tVal-rmse:30426.4\n",
            "[118]\tVal-rmse:30240.4\n",
            "[119]\tVal-rmse:30038.9\n",
            "[120]\tVal-rmse:29847\n",
            "[121]\tVal-rmse:29667.6\n",
            "[122]\tVal-rmse:29485.2\n",
            "[123]\tVal-rmse:29294.4\n",
            "[124]\tVal-rmse:29125.8\n",
            "[125]\tVal-rmse:28948.9\n",
            "[126]\tVal-rmse:28769.6\n",
            "[127]\tVal-rmse:28585.1\n",
            "[128]\tVal-rmse:28426.4\n",
            "[129]\tVal-rmse:28257.7\n",
            "[130]\tVal-rmse:28092.4\n",
            "[131]\tVal-rmse:27924.1\n",
            "[132]\tVal-rmse:27770.1\n",
            "[133]\tVal-rmse:27626.7\n",
            "[134]\tVal-rmse:27470.1\n",
            "[135]\tVal-rmse:27296.8\n",
            "[136]\tVal-rmse:27125.1\n",
            "[137]\tVal-rmse:26967.8\n",
            "[138]\tVal-rmse:26822.4\n",
            "[139]\tVal-rmse:26665.5\n",
            "[140]\tVal-rmse:26532.6\n",
            "[141]\tVal-rmse:26394.3\n",
            "[142]\tVal-rmse:26273\n",
            "[143]\tVal-rmse:26128.7\n",
            "[144]\tVal-rmse:25988.6\n",
            "[145]\tVal-rmse:25844.6\n",
            "[146]\tVal-rmse:25706.6\n",
            "[147]\tVal-rmse:25567.6\n",
            "[148]\tVal-rmse:25432.1\n",
            "[149]\tVal-rmse:25312.3\n",
            "[150]\tVal-rmse:25195.4\n",
            "[151]\tVal-rmse:25077.6\n",
            "[152]\tVal-rmse:24963.7\n",
            "[153]\tVal-rmse:24829.3\n",
            "[154]\tVal-rmse:24724.6\n",
            "[155]\tVal-rmse:24601.7\n",
            "[156]\tVal-rmse:24503.4\n",
            "[157]\tVal-rmse:24405\n",
            "[158]\tVal-rmse:24289.5\n",
            "[159]\tVal-rmse:24195.3\n",
            "[160]\tVal-rmse:24086.9\n",
            "[161]\tVal-rmse:23990.1\n",
            "[162]\tVal-rmse:23891.2\n",
            "[163]\tVal-rmse:23805.6\n",
            "[164]\tVal-rmse:23721.7\n",
            "[165]\tVal-rmse:23622.8\n",
            "[166]\tVal-rmse:23533.5\n",
            "[167]\tVal-rmse:23429.9\n",
            "[168]\tVal-rmse:23342.1\n",
            "[169]\tVal-rmse:23242.7\n",
            "[170]\tVal-rmse:23156.6\n",
            "[171]\tVal-rmse:23071.2\n",
            "[172]\tVal-rmse:22984.3\n",
            "[173]\tVal-rmse:22906.5\n",
            "[174]\tVal-rmse:22839.5\n",
            "[175]\tVal-rmse:22764.7\n",
            "[176]\tVal-rmse:22694.7\n",
            "[177]\tVal-rmse:22626.5\n",
            "[178]\tVal-rmse:22555.4\n",
            "[179]\tVal-rmse:22487\n",
            "[180]\tVal-rmse:22406.4\n",
            "[181]\tVal-rmse:22337.5\n",
            "[182]\tVal-rmse:22256.9\n",
            "[183]\tVal-rmse:22181.9\n",
            "[184]\tVal-rmse:22122.6\n",
            "[185]\tVal-rmse:22057.5\n",
            "[186]\tVal-rmse:22000\n",
            "[187]\tVal-rmse:21935.9\n",
            "[188]\tVal-rmse:21861.4\n",
            "[189]\tVal-rmse:21782.9\n",
            "[190]\tVal-rmse:21720.2\n",
            "[191]\tVal-rmse:21659.9\n",
            "[192]\tVal-rmse:21598.4\n",
            "[193]\tVal-rmse:21534.1\n",
            "[194]\tVal-rmse:21474.7\n",
            "[195]\tVal-rmse:21426.9\n",
            "[196]\tVal-rmse:21360.8\n",
            "[197]\tVal-rmse:21305.6\n",
            "[198]\tVal-rmse:21233.9\n",
            "[199]\tVal-rmse:21164.5\n",
            "[200]\tVal-rmse:21099\n",
            "[201]\tVal-rmse:21053.1\n",
            "[202]\tVal-rmse:21008.2\n",
            "[203]\tVal-rmse:20958.1\n",
            "[204]\tVal-rmse:20893.8\n",
            "[205]\tVal-rmse:20848.7\n",
            "[206]\tVal-rmse:20800\n",
            "[207]\tVal-rmse:20758.4\n",
            "[208]\tVal-rmse:20706.2\n",
            "[209]\tVal-rmse:20662.9\n",
            "[210]\tVal-rmse:20620.1\n",
            "[211]\tVal-rmse:20569\n",
            "[212]\tVal-rmse:20519\n",
            "[213]\tVal-rmse:20474\n",
            "[214]\tVal-rmse:20423.8\n",
            "[215]\tVal-rmse:20377.4\n",
            "[216]\tVal-rmse:20332.9\n",
            "[217]\tVal-rmse:20307\n",
            "[218]\tVal-rmse:20260.7\n",
            "[219]\tVal-rmse:20232\n",
            "[220]\tVal-rmse:20188.2\n",
            "[221]\tVal-rmse:20155.3\n",
            "[222]\tVal-rmse:20103.3\n",
            "[223]\tVal-rmse:20063\n",
            "[224]\tVal-rmse:20027.5\n",
            "[225]\tVal-rmse:19992.9\n",
            "[226]\tVal-rmse:19966.6\n",
            "[227]\tVal-rmse:19935.3\n",
            "[228]\tVal-rmse:19903.5\n",
            "[229]\tVal-rmse:19873.1\n",
            "[230]\tVal-rmse:19849.8\n",
            "[231]\tVal-rmse:19829.2\n",
            "[232]\tVal-rmse:19805.4\n",
            "[233]\tVal-rmse:19785.7\n",
            "[234]\tVal-rmse:19751\n",
            "[235]\tVal-rmse:19745.5\n",
            "[236]\tVal-rmse:19728.4\n",
            "[237]\tVal-rmse:19706.4\n",
            "[238]\tVal-rmse:19678.6\n",
            "[239]\tVal-rmse:19654.3\n",
            "[240]\tVal-rmse:19628.3\n",
            "[241]\tVal-rmse:19608.4\n",
            "[242]\tVal-rmse:19586.3\n",
            "[243]\tVal-rmse:19569.9\n",
            "[244]\tVal-rmse:19549.6\n",
            "[245]\tVal-rmse:19526.1\n",
            "[246]\tVal-rmse:19502\n",
            "[247]\tVal-rmse:19483.9\n",
            "[248]\tVal-rmse:19461.1\n",
            "[249]\tVal-rmse:19443.2\n",
            "[250]\tVal-rmse:19422.5\n",
            "[251]\tVal-rmse:19391.7\n",
            "[252]\tVal-rmse:19376.6\n",
            "[253]\tVal-rmse:19351.8\n",
            "[254]\tVal-rmse:19339.9\n",
            "[255]\tVal-rmse:19327.1\n",
            "[256]\tVal-rmse:19302.5\n",
            "[257]\tVal-rmse:19281.8\n",
            "[258]\tVal-rmse:19257.9\n",
            "[259]\tVal-rmse:19238.3\n",
            "[260]\tVal-rmse:19222.5\n",
            "[261]\tVal-rmse:19202.9\n",
            "[262]\tVal-rmse:19193.7\n",
            "[263]\tVal-rmse:19185.1\n",
            "[264]\tVal-rmse:19170.2\n",
            "[265]\tVal-rmse:19151.4\n",
            "[266]\tVal-rmse:19139.3\n",
            "[267]\tVal-rmse:19129.9\n",
            "[268]\tVal-rmse:19123.7\n",
            "[269]\tVal-rmse:19111.4\n",
            "[270]\tVal-rmse:19095.2\n",
            "[271]\tVal-rmse:19088.3\n",
            "[272]\tVal-rmse:19069.7\n",
            "[273]\tVal-rmse:19052.2\n",
            "[274]\tVal-rmse:19043.5\n",
            "[275]\tVal-rmse:19030.9\n",
            "[276]\tVal-rmse:19026\n",
            "[277]\tVal-rmse:19014.9\n",
            "[278]\tVal-rmse:19016.8\n",
            "[279]\tVal-rmse:19004.5\n",
            "[280]\tVal-rmse:18997.5\n",
            "[281]\tVal-rmse:18979.3\n",
            "[282]\tVal-rmse:18968.7\n",
            "[283]\tVal-rmse:18971.6\n",
            "[284]\tVal-rmse:18969.4\n",
            "[285]\tVal-rmse:18964.5\n",
            "[286]\tVal-rmse:18959.5\n",
            "[287]\tVal-rmse:18950.6\n",
            "[288]\tVal-rmse:18946.1\n",
            "[289]\tVal-rmse:18939.3\n",
            "[290]\tVal-rmse:18927.7\n",
            "[291]\tVal-rmse:18932.7\n",
            "[292]\tVal-rmse:18922.9\n",
            "[293]\tVal-rmse:18914.5\n",
            "[294]\tVal-rmse:18912\n",
            "[295]\tVal-rmse:18896.7\n",
            "[296]\tVal-rmse:18894.7\n",
            "[297]\tVal-rmse:18873.8\n",
            "[298]\tVal-rmse:18865.3\n",
            "[299]\tVal-rmse:18846.9\n"
          ],
          "name": "stdout"
        }
      ]
    },
    {
      "cell_type": "code",
      "metadata": {
        "id": "3aI7Ju4abWvY",
        "colab": {
          "base_uri": "https://localhost:8080/"
        },
        "outputId": "d0f0518b-cd9a-4fe1-ec14-eda375dd0a35"
      },
      "source": [
        "dtest = xgb.DMatrix(a2)\n",
        "#predictions = model.predict(dtest)\n",
        " \n",
        " \n",
        "model2.fit(a,b)\n",
        "predictions = model2.predict(a2)\n",
        " \n",
        " \n",
        "predictions"
      ],
      "execution_count": null,
      "outputs": [
        {
          "output_type": "execute_result",
          "data": {
            "text/plain": [
              "array([80416.234 , 87277.234 , 87166.51  , 82748.32  , 83910.39  ,\n",
              "       84879.47  , 88502.47  , 83973.58  , 85623.36  , 87173.87  ,\n",
              "       86777.83  , 91834.92  , 14136.783 , 20880.406 , 79519.76  ,\n",
              "       85599.72  , 82181.43  , 86777.83  , 85978.305 , 78968.11  ,\n",
              "       76564.81  ,  8931.881 , 76746.67  , 84741.81  , 82859.05  ,\n",
              "       85915.86  , 78109.46  ,  7729.694 , 15006.699 , 13955.751 ,\n",
              "       80590.84  , 82436.84  ,  7767.9385, 81341.11  , 81930.69  ,\n",
              "       80903.305 , 78400.125 , 84231.62  , 82967.09  , 79844.9   ,\n",
              "       82337.12  , 84445.11  , 81231.59  , 79610.305 , 14852.187 ,\n",
              "       85623.36  , 86458.88  , 79894.39  , 88717.58  , 81438.016 ,\n",
              "       80086.63  , 84674.83  , 82406.164 , 15468.562 , 79722.984 ,\n",
              "       80256.1   , 82870.11  , 79689.21  , 85212.16  , 85445.    ,\n",
              "       75948.516 , 85623.36  , 86866.03  , 86866.03  , 84445.11  ,\n",
              "       84464.46  ,  6976.523 , 81187.164 , 85212.16  , 87025.77  ,\n",
              "       81496.805 , 76195.33  , 80256.1   , 80086.65  , 79663.875 ,\n",
              "       80086.65  , 86133.99  , 80652.766 , 85582.69  , 85623.36  ,\n",
              "       11314.52  , 85856.2   , 92577.65  , 76297.125 , 83058.79  ,\n",
              "       79894.39  , 87508.6   , 85998.22  , 86561.    , 86450.28  ,\n",
              "       85194.15  , 80775.96  , 84963.875 , 77883.76  , 80775.96  ,\n",
              "       79522.3   , 86796.05  , 81366.44  , 16235.421 , 82497.58  ,\n",
              "        6717.2915, 82581.836 , 86866.03  , 82086.375 , 12663.175 ,\n",
              "       85850.13  ,  7110.5093, 86562.04  , 83178.375 , 85819.31  ,\n",
              "       83110.04  , 86562.04  , 85252.42  , 85445.    , 80339.875 ,\n",
              "       82748.32  ,  8205.739 , 12354.907 , 81234.88  , 81965.17  ,\n",
              "       16913.906 , 89751.836 , 85623.36  , 87949.98  , 25481.787 ,\n",
              "       86866.03  , 88048.69  , 80492.1   , 81187.164 , 88959.805 ,\n",
              "       80903.305 , 82789.19  , 84674.83  , 78559.58  , 79689.21  ,\n",
              "        7537.5684, 83457.13  , 89260.28  , 85194.15  , 80620.27  ],\n",
              "      dtype=float32)"
            ]
          },
          "metadata": {
            "tags": []
          },
          "execution_count": 81
        }
      ]
    },
    {
      "cell_type": "code",
      "metadata": {
        "id": "0LNXs4DQgyFN",
        "colab": {
          "base_uri": "https://localhost:8080/"
        },
        "outputId": "7def7cea-a8c3-41c8-b1cd-cdd9187292b2"
      },
      "source": [
        "sqrt(MSE(b2, predictions))"
      ],
      "execution_count": null,
      "outputs": [
        {
          "output_type": "execute_result",
          "data": {
            "text/plain": [
              "18228.381895851853"
            ]
          },
          "metadata": {
            "tags": []
          },
          "execution_count": 82
        }
      ]
    },
    {
      "cell_type": "code",
      "metadata": {
        "id": "MqG4oRxqUdIB"
      },
      "source": [
        ""
      ],
      "execution_count": null,
      "outputs": []
    },
    {
      "cell_type": "code",
      "metadata": {
        "id": "ms-YzN2Yr9_w"
      },
      "source": [
        ""
      ],
      "execution_count": null,
      "outputs": []
    },
    {
      "cell_type": "markdown",
      "metadata": {
        "id": "VcXavDuqsAGS"
      },
      "source": [
        "###**Submission**"
      ]
    },
    {
      "cell_type": "code",
      "metadata": {
        "id": "yzkm3irCUeSu",
        "colab": {
          "base_uri": "https://localhost:8080/",
          "height": 419
        },
        "outputId": "648a98ac-50b1-43b7-c196-52e5852511f2"
      },
      "source": [
        "submission = pd.DataFrame()\n",
        "submission['Customer_ID'] = test['Customer_ID']\n",
        " \n",
        "dsub = xgb.DMatrix(dx2)\n",
        "#sub = model.predict(dsub)\n",
        "sub = model2.predict(dx2)\n",
        " \n",
        "submission['total_claim_amount'] = sub\n",
        "submission.to_csv('submission.csv', index=False)\n",
        "submission"
      ],
      "execution_count": null,
      "outputs": [
        {
          "output_type": "execute_result",
          "data": {
            "text/html": [
              "<div>\n",
              "<style scoped>\n",
              "    .dataframe tbody tr th:only-of-type {\n",
              "        vertical-align: middle;\n",
              "    }\n",
              "\n",
              "    .dataframe tbody tr th {\n",
              "        vertical-align: top;\n",
              "    }\n",
              "\n",
              "    .dataframe thead th {\n",
              "        text-align: right;\n",
              "    }\n",
              "</style>\n",
              "<table border=\"1\" class=\"dataframe\">\n",
              "  <thead>\n",
              "    <tr style=\"text-align: right;\">\n",
              "      <th></th>\n",
              "      <th>Customer_ID</th>\n",
              "      <th>total_claim_amount</th>\n",
              "    </tr>\n",
              "  </thead>\n",
              "  <tbody>\n",
              "    <tr>\n",
              "      <th>0</th>\n",
              "      <td>Customer_521</td>\n",
              "      <td>84093.632812</td>\n",
              "    </tr>\n",
              "    <tr>\n",
              "      <th>1</th>\n",
              "      <td>Customer_737</td>\n",
              "      <td>80050.078125</td>\n",
              "    </tr>\n",
              "    <tr>\n",
              "      <th>2</th>\n",
              "      <td>Customer_740</td>\n",
              "      <td>82406.781250</td>\n",
              "    </tr>\n",
              "    <tr>\n",
              "      <th>3</th>\n",
              "      <td>Customer_660</td>\n",
              "      <td>84502.218750</td>\n",
              "    </tr>\n",
              "    <tr>\n",
              "      <th>4</th>\n",
              "      <td>Customer_411</td>\n",
              "      <td>13525.625000</td>\n",
              "    </tr>\n",
              "    <tr>\n",
              "      <th>...</th>\n",
              "      <td>...</td>\n",
              "      <td>...</td>\n",
              "    </tr>\n",
              "    <tr>\n",
              "      <th>295</th>\n",
              "      <td>Customer_468</td>\n",
              "      <td>75757.554688</td>\n",
              "    </tr>\n",
              "    <tr>\n",
              "      <th>296</th>\n",
              "      <td>Customer_935</td>\n",
              "      <td>83178.375000</td>\n",
              "    </tr>\n",
              "    <tr>\n",
              "      <th>297</th>\n",
              "      <td>Customer_428</td>\n",
              "      <td>77333.187500</td>\n",
              "    </tr>\n",
              "    <tr>\n",
              "      <th>298</th>\n",
              "      <td>Customer_7</td>\n",
              "      <td>86133.992188</td>\n",
              "    </tr>\n",
              "    <tr>\n",
              "      <th>299</th>\n",
              "      <td>Customer_155</td>\n",
              "      <td>85206.968750</td>\n",
              "    </tr>\n",
              "  </tbody>\n",
              "</table>\n",
              "<p>300 rows × 2 columns</p>\n",
              "</div>"
            ],
            "text/plain": [
              "      Customer_ID  total_claim_amount\n",
              "0    Customer_521        84093.632812\n",
              "1    Customer_737        80050.078125\n",
              "2    Customer_740        82406.781250\n",
              "3    Customer_660        84502.218750\n",
              "4    Customer_411        13525.625000\n",
              "..            ...                 ...\n",
              "295  Customer_468        75757.554688\n",
              "296  Customer_935        83178.375000\n",
              "297  Customer_428        77333.187500\n",
              "298    Customer_7        86133.992188\n",
              "299  Customer_155        85206.968750\n",
              "\n",
              "[300 rows x 2 columns]"
            ]
          },
          "metadata": {
            "tags": []
          },
          "execution_count": 83
        }
      ]
    },
    {
      "cell_type": "code",
      "metadata": {
        "id": "f_gKeYtt2U4y",
        "colab": {
          "base_uri": "https://localhost:8080/"
        },
        "outputId": "ac548d34-1b5d-465e-f486-d57bcb552b3b"
      },
      "source": [
        "#Submission API\n",
        "#!kaggle competitions submit -c data-science-nigeria-insurance-claims-competition -f submission.csv -m \"Message\""
      ],
      "execution_count": null,
      "outputs": [
        {
          "output_type": "stream",
          "text": [
            "Warning: Looks like you're using an outdated API Version, please consider updating (server 1.5.12 / client 1.5.4)\n",
            "100% 6.50k/6.50k [00:08<00:00, 822B/s]\n",
            "Successfully submitted to Data Science Nigeria Insurance claims"
          ],
          "name": "stdout"
        }
      ]
    }
  ]
}
